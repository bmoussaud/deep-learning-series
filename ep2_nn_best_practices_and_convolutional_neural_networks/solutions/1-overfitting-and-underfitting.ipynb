{
 "cells": [
  {
   "cell_type": "code",
   "execution_count": 1,
   "metadata": {},
   "outputs": [
    {
     "name": "stderr",
     "output_type": "stream",
     "text": [
      "/Users/Yoann/anaconda2/envs/tensorflow/lib/python2.7/site-packages/h5py/__init__.py:36: FutureWarning: Conversion of the second argument of issubdtype from `float` to `np.floating` is deprecated. In future, it will be treated as `np.float64 == np.dtype(float).type`.\n",
      "  from ._conv import register_converters as _register_converters\n",
      "Using TensorFlow backend.\n"
     ]
    }
   ],
   "source": [
    "import keras\n",
    "keras.__version__\n",
    "\n",
    "import matplotlib.pyplot as plt\n",
    "%matplotlib inline"
   ]
  },
  {
   "cell_type": "markdown",
   "metadata": {},
   "source": [
    "# Overfitting and underfitting\n",
    "----\n",
    "****"
   ]
  },
  {
   "cell_type": "markdown",
   "metadata": {},
   "source": [
    "This notebook contains the code samples found in Chapter 3, Section 6 of [Deep Learning with Python](https://www.manning.com/books/deep-learning-with-python?a_aid=keras&a_bid=76564dff). Note that the original text features far more content, in particular further explanations and figures.\n",
    "\n",
    "----\n",
    "\n",
    "\n",
    "In all the examples we saw in the previous episode, we could notice that the performance of our model on the held-out validation data would always peak after a few epochs and would then start degrading, i.e. our model would quickly start to _overfit_ to the training data. Overfitting happens in every single machine learning problem. Learning how to deal with overfitting is essential to mastering machine learning.\n",
    "\n",
    "The fundamental issue in machine learning is the tension between optimization and generalization. \"Optimization\" refers to the process of adjusting a model to get the best performance possible on the training data (the \"learning\" in \"machine learning\"), while \"generalization\" refers to how well the trained model would perform on data it has never seen before. The goal of the game is to get good generalization, of course, but you do not control generalization; you can only adjust the model based on its training data.\n",
    "\n",
    "At the beginning of training, optimization and generalization are correlated: the lower your loss on training data, the lower your loss on test data. While this is happening, your model is said to be _under-fit_: there is still progress to be made; the network hasn't yet modeled all relevant patterns in the training data. But after a certain number of iterations on the training data, generalization stops improving, validation metrics stall then start degrading: the model is then starting to over-fit, i.e. is it starting to learn patterns that are specific to the training data but that are misleading or irrelevant when it comes to new data.\n",
    "\n",
    "To prevent a model from learning misleading or irrelevant patterns found in the training data, _the best solution is of course to get more training data_. A model trained on more data will naturally generalize better. When that is no longer possible, the next best solution is to modulate the quantity of information that your model is allowed to store, or to add constraints on what information it is allowed to store. If a network can only afford to memorize a small number of patterns, the optimization process will force it to focus on the most prominent patterns, which have a better chance of generalizing well.\n",
    "\n",
    "The processing of fighting overfitting in this way is called _regularization_. Let's review some of the most common regularization techniques, and let's apply them in practice to improve our movie classification model from the previous episode."
   ]
  },
  {
   "cell_type": "markdown",
   "metadata": {},
   "source": [
    "## 1 - Load data"
   ]
  },
  {
   "cell_type": "markdown",
   "metadata": {},
   "source": [
    "In this example we will be using the IMDB test set as our validation set.\n",
    "\n",
    "Let's prepare the data :"
   ]
  },
  {
   "cell_type": "code",
   "execution_count": 2,
   "metadata": {
    "collapsed": true
   },
   "outputs": [],
   "source": [
    "from keras.datasets import imdb\n",
    "import numpy as np\n",
    "\n",
    "(train_data, train_labels), (test_data, test_labels) = imdb.load_data(num_words=10000)\n",
    "\n",
    "def vectorize_sequences(sequences, dimension=10000):\n",
    "    # Create an all-zero matrix of shape (len(sequences), dimension)\n",
    "    results = np.zeros((len(sequences), dimension))\n",
    "    for i, sequence in enumerate(sequences):\n",
    "        results[i, sequence] = 1.  # set specific indices of results[i] to 1s\n",
    "    return results\n",
    "\n",
    "# Our vectorized training data\n",
    "x_train = vectorize_sequences(train_data)\n",
    "# Our vectorized test data\n",
    "x_test = vectorize_sequences(test_data)\n",
    "# Our vectorized labels\n",
    "y_train = np.asarray(train_labels).astype('float32')\n",
    "y_test = np.asarray(test_labels).astype('float32')"
   ]
  },
  {
   "cell_type": "markdown",
   "metadata": {},
   "source": [
    "## 2 - Fit the original model"
   ]
  },
  {
   "cell_type": "code",
   "execution_count": 3,
   "metadata": {},
   "outputs": [],
   "source": [
    "from keras import models\n",
    "from keras import layers"
   ]
  },
  {
   "cell_type": "markdown",
   "metadata": {},
   "source": [
    "Let's build our network, using the `Sequential` API.\n",
    "\n",
    "> Here's the network's building blocks : \n",
    "- Dense Layer : 16 neurons, relu activation, input shape (10000, )\n",
    "- Dense Layer : 16 neurons, relu activation\n",
    "- Dense Layer : 1 neurons, sigmoid activation\n",
    "\n",
    "Documentation : https://keras.io/getting-started/sequential-model-guide/"
   ]
  },
  {
   "cell_type": "code",
   "execution_count": 4,
   "metadata": {},
   "outputs": [],
   "source": [
    "# Q2.1 : Create the layers of the neural network using the Sequential API from Keras\n",
    "\n",
    "original_model = models.Sequential()\n",
    "\n",
    "# YOUR CODE BELOW\n",
    "original_model.add(layers.Dense(16, activation='relu', input_shape=(10000,)))\n",
    "original_model.add(layers.Dense(16, activation='relu'))\n",
    "original_model.add(layers.Dense(1, activation='sigmoid'))"
   ]
  },
  {
   "cell_type": "markdown",
   "metadata": {},
   "source": [
    "Implement the following compilation step for your Neural Network : \n",
    "- \"rmsprop\" optimizer\n",
    "- \"binary_crossentropy\" loss\n",
    "- metric : \"accuracy\"\n",
    "\n",
    "Documentation : https://keras.io/getting-started/sequential-model-guide/#compilation"
   ]
  },
  {
   "cell_type": "code",
   "execution_count": 5,
   "metadata": {},
   "outputs": [],
   "source": [
    "# Q2.2 : Add the compilation step to the network\n",
    "\n",
    "# YOUR CODE BELOW\n",
    "original_model.compile(optimizer='rmsprop',\n",
    "                       loss='binary_crossentropy',\n",
    "                       metrics=['acc'])"
   ]
  },
  {
   "cell_type": "markdown",
   "metadata": {},
   "source": [
    "We will now train our model for 20 epochs (20 iterations over all samples in the `x_train` and `y_train` tensors), in mini-batches of 512 samples. At this same time we will monitor loss and accuracy on `x_test` and `y_test` that we set apart. This is done by passing the validation data as the `validation_data` argument.\n",
    "\n",
    "Documentation : https://keras.io/models/sequential/#fit"
   ]
  },
  {
   "cell_type": "code",
   "execution_count": 6,
   "metadata": {},
   "outputs": [
    {
     "name": "stdout",
     "output_type": "stream",
     "text": [
      "Train on 25000 samples, validate on 25000 samples\n",
      "Epoch 1/20\n",
      "25000/25000 [==============================] - 4s 173us/step - loss: 0.4496 - acc: 0.8165 - val_loss: 0.3345 - val_acc: 0.8790\n",
      "Epoch 2/20\n",
      "25000/25000 [==============================] - 3s 122us/step - loss: 0.2552 - acc: 0.9094 - val_loss: 0.3170 - val_acc: 0.8705\n",
      "Epoch 3/20\n",
      "25000/25000 [==============================] - 3s 130us/step - loss: 0.1969 - acc: 0.9298 - val_loss: 0.2821 - val_acc: 0.8882\n",
      "Epoch 4/20\n",
      "25000/25000 [==============================] - 3s 120us/step - loss: 0.1669 - acc: 0.9409 - val_loss: 0.2946 - val_acc: 0.8832\n",
      "Epoch 5/20\n",
      "25000/25000 [==============================] - 3s 121us/step - loss: 0.1431 - acc: 0.9485 - val_loss: 0.3221 - val_acc: 0.8783\n",
      "Epoch 6/20\n",
      "25000/25000 [==============================] - 3s 118us/step - loss: 0.1266 - acc: 0.9562 - val_loss: 0.3491 - val_acc: 0.8726\n",
      "Epoch 7/20\n",
      "25000/25000 [==============================] - 3s 122us/step - loss: 0.1128 - acc: 0.9609 - val_loss: 0.3614 - val_acc: 0.8714\n",
      "Epoch 8/20\n",
      "25000/25000 [==============================] - 3s 118us/step - loss: 0.1010 - acc: 0.9650 - val_loss: 0.4100 - val_acc: 0.8634\n",
      "Epoch 9/20\n",
      "25000/25000 [==============================] - 3s 123us/step - loss: 0.0903 - acc: 0.9686 - val_loss: 0.4177 - val_acc: 0.8650\n",
      "Epoch 10/20\n",
      "25000/25000 [==============================] - 3s 126us/step - loss: 0.0810 - acc: 0.9724 - val_loss: 0.4481 - val_acc: 0.8622\n",
      "Epoch 11/20\n",
      "25000/25000 [==============================] - 3s 124us/step - loss: 0.0738 - acc: 0.9753 - val_loss: 0.4748 - val_acc: 0.8608\n",
      "Epoch 12/20\n",
      "25000/25000 [==============================] - 3s 124us/step - loss: 0.0641 - acc: 0.9792 - val_loss: 0.5269 - val_acc: 0.8579\n",
      "Epoch 13/20\n",
      "25000/25000 [==============================] - 3s 121us/step - loss: 0.0611 - acc: 0.9793 - val_loss: 0.5295 - val_acc: 0.8586\n",
      "Epoch 14/20\n",
      "25000/25000 [==============================] - 3s 127us/step - loss: 0.0499 - acc: 0.9845 - val_loss: 0.6064 - val_acc: 0.8481\n",
      "Epoch 15/20\n",
      "25000/25000 [==============================] - 3s 126us/step - loss: 0.0471 - acc: 0.9850 - val_loss: 0.6024 - val_acc: 0.8528\n",
      "Epoch 16/20\n",
      "25000/25000 [==============================] - 3s 122us/step - loss: 0.0387 - acc: 0.9890 - val_loss: 0.6332 - val_acc: 0.8526\n",
      "Epoch 17/20\n",
      "25000/25000 [==============================] - 3s 129us/step - loss: 0.0375 - acc: 0.9887 - val_loss: 0.6762 - val_acc: 0.8504\n",
      "Epoch 18/20\n",
      "25000/25000 [==============================] - 4s 148us/step - loss: 0.0294 - acc: 0.9920 - val_loss: 0.7290 - val_acc: 0.8478\n",
      "Epoch 19/20\n",
      "25000/25000 [==============================] - 3s 123us/step - loss: 0.0266 - acc: 0.9925 - val_loss: 0.7373 - val_acc: 0.8490\n",
      "Epoch 20/20\n",
      "25000/25000 [==============================] - 3s 122us/step - loss: 0.0252 - acc: 0.9924 - val_loss: 0.7782 - val_acc: 0.8492\n"
     ]
    }
   ],
   "source": [
    "# Q2.3 : Fit the neural network to its training data\n",
    "\n",
    "# YOUR CODE BELOW\n",
    "original_hist = original_model.fit(x_train, y_train,\n",
    "                                   epochs=20,\n",
    "                                   batch_size=512,\n",
    "                                   validation_data=(x_test, y_test))"
   ]
  },
  {
   "cell_type": "code",
   "execution_count": 7,
   "metadata": {},
   "outputs": [
    {
     "data": {
      "image/png": "[encoded data removed]",
      "text/plain": [
       "<matplotlib.figure.Figure at 0x10e5cee50>"
      ]
     },
     "metadata": {},
     "output_type": "display_data"
    }
   ],
   "source": [
    "epochs = range(1, 21)\n",
    "original_val_loss = original_hist.history['val_loss']\n",
    "\n",
    "fig = plt.figure(figsize=(10,5))\n",
    "\n",
    "# b+ is for \"blue cross\"\n",
    "plt.plot(epochs, original_val_loss, 'b+', label='Original model')\n",
    "plt.xlabel('Epochs')\n",
    "plt.ylabel('Validation loss')\n",
    "plt.legend()\n",
    "\n",
    "plt.show()"
   ]
  },
  {
   "cell_type": "markdown",
   "metadata": {},
   "source": [
    "## 3 - Fighting overfitting"
   ]
  },
  {
   "cell_type": "markdown",
   "metadata": {},
   "source": [
    "### 3.1 - Reducing the network's size\n",
    "\n",
    "\n",
    "The simplest way to prevent overfitting is to reduce the size of the model, i.e. the number of learnable parameters in the model (which is determined by the number of layers and the number of units per layer). In deep learning, the number of learnable parameters in a model is often referred to as the model's \"capacity\". Intuitively, a model with more parameters will have more \"memorization capacity\" and therefore will be able to easily learn a perfect dictionary-like mapping between training samples and their targets, a mapping without any generalization power. For instance, a model with 500,000 binary parameters could easily be made to learn the class of every digits in the MNIST training set: we would only need 10 binary parameters for each of the 50,000 digits. Such a model would be useless for classifying new digit samples. Always keep this in mind: deep learning models tend to be good at fitting to the training data, but the real challenge is generalization, not fitting.\n",
    "\n",
    "On the other hand, if the network has limited memorization resources, it will not be able to learn this mapping as easily, and thus, in order to minimize its loss, it will have to resort to learning compressed representations that have predictive power regarding the targets -- precisely the type of representations that we are interested in. At the same time, keep in mind that you should be using models that have enough parameters that they won't be underfitting: your model shouldn't be starved for memorization resources. There is a compromise to be found between \"too much capacity\" and \"not enough capacity\".\n",
    "\n",
    "Unfortunately, there is no magical formula to determine what the right number of layers is, or what the right size for each layer is. You will have to evaluate an array of different architectures (on your validation set, not on your test set, of course) in order to find the right model size for your data. The general workflow to find an appropriate model size is to start with relatively few layers and parameters, and start increasing the size of the layers or adding new layers until you see diminishing returns with regard to the validation loss.\n",
    "\n",
    "Let's try this on our movie review classification network."
   ]
  },
  {
   "cell_type": "markdown",
   "metadata": {},
   "source": [
    "Let's build our network, using the `Sequential` API.\n",
    "\n",
    "> Here's the network's building blocks : \n",
    "- Dense Layer : 4 neurons, relu activation, input shape (10000, )\n",
    "- Dense Layer : 4 neurons, relu activation\n",
    "- Dense Layer : 1 neurons, sigmoid activation\n",
    "\n",
    "Documentation : https://keras.io/getting-started/sequential-model-guide/"
   ]
  },
  {
   "cell_type": "code",
   "execution_count": 8,
   "metadata": {
    "collapsed": true
   },
   "outputs": [],
   "source": [
    "# Q3.1.1 : Create the layers of the neural network using the Sequential API from Keras\n",
    "\n",
    "smaller_model = models.Sequential()\n",
    "\n",
    "# YOUR CODE BELOW\n",
    "smaller_model.add(layers.Dense(4, activation='relu', input_shape=(10000,)))\n",
    "smaller_model.add(layers.Dense(4, activation='relu'))\n",
    "smaller_model.add(layers.Dense(1, activation='sigmoid'))"
   ]
  },
  {
   "cell_type": "markdown",
   "metadata": {},
   "source": [
    "Implement the following compilation step for your Neural Network (which are the same from the previous model) : \n",
    "- \"rmsprop\" optimizer\n",
    "- \"binary_crossentropy\" loss\n",
    "- metric : \"accuracy\"\n",
    "\n",
    "Documentation : https://keras.io/getting-started/sequential-model-guide/#compilation"
   ]
  },
  {
   "cell_type": "code",
   "execution_count": 9,
   "metadata": {},
   "outputs": [],
   "source": [
    "# Q3.1.2 : Add the compilation step to the network\n",
    "\n",
    "# YOUR CODE BELOW\n",
    "smaller_model.compile(optimizer='rmsprop',\n",
    "                      loss='binary_crossentropy',\n",
    "                      metrics=['acc'])"
   ]
  },
  {
   "cell_type": "markdown",
   "metadata": {},
   "source": [
    "Train the model with the same parameters as the previous one\n",
    "\n",
    "Documentation : https://keras.io/models/sequential/#fit"
   ]
  },
  {
   "cell_type": "code",
   "execution_count": 10,
   "metadata": {},
   "outputs": [
    {
     "name": "stdout",
     "output_type": "stream",
     "text": [
      "Train on 25000 samples, validate on 25000 samples\n",
      "Epoch 1/20\n",
      "25000/25000 [==============================] - 3s 128us/step - loss: 0.5232 - acc: 0.8066 - val_loss: 0.4189 - val_acc: 0.8666\n",
      "Epoch 2/20\n",
      "25000/25000 [==============================] - 3s 124us/step - loss: 0.3370 - acc: 0.8967 - val_loss: 0.3340 - val_acc: 0.8816\n",
      "Epoch 3/20\n",
      "25000/25000 [==============================] - 3s 123us/step - loss: 0.2583 - acc: 0.9164 - val_loss: 0.2935 - val_acc: 0.8892\n",
      "Epoch 4/20\n",
      "25000/25000 [==============================] - 3s 120us/step - loss: 0.2153 - acc: 0.9286 - val_loss: 0.2811 - val_acc: 0.8896\n",
      "Epoch 5/20\n",
      "25000/25000 [==============================] - 3s 123us/step - loss: 0.1867 - acc: 0.9378 - val_loss: 0.2871 - val_acc: 0.8840\n",
      "Epoch 6/20\n",
      "25000/25000 [==============================] - 3s 131us/step - loss: 0.1665 - acc: 0.9433 - val_loss: 0.2831 - val_acc: 0.8866\n",
      "Epoch 7/20\n",
      "25000/25000 [==============================] - 3s 126us/step - loss: 0.1506 - acc: 0.9501 - val_loss: 0.2901 - val_acc: 0.8846\n",
      "Epoch 8/20\n",
      "25000/25000 [==============================] - 4s 142us/step - loss: 0.1370 - acc: 0.9547 - val_loss: 0.3007 - val_acc: 0.8822\n",
      "Epoch 9/20\n",
      "25000/25000 [==============================] - 3s 123us/step - loss: 0.1261 - acc: 0.9581 - val_loss: 0.3119 - val_acc: 0.8800\n",
      "Epoch 10/20\n",
      "25000/25000 [==============================] - 3s 122us/step - loss: 0.1165 - acc: 0.9622 - val_loss: 0.3360 - val_acc: 0.8733\n",
      "Epoch 11/20\n",
      "25000/25000 [==============================] - 3s 123us/step - loss: 0.1083 - acc: 0.9658 - val_loss: 0.3394 - val_acc: 0.8758\n",
      "Epoch 12/20\n",
      "25000/25000 [==============================] - 3s 122us/step - loss: 0.1003 - acc: 0.9690 - val_loss: 0.3562 - val_acc: 0.8718\n",
      "Epoch 13/20\n",
      "25000/25000 [==============================] - 3s 136us/step - loss: 0.0928 - acc: 0.9722 - val_loss: 0.3684 - val_acc: 0.8717\n",
      "Epoch 14/20\n",
      "25000/25000 [==============================] - 3s 135us/step - loss: 0.0872 - acc: 0.9741 - val_loss: 0.3878 - val_acc: 0.8693\n",
      "Epoch 15/20\n",
      "25000/25000 [==============================] - 3s 131us/step - loss: 0.0809 - acc: 0.9759 - val_loss: 0.4032 - val_acc: 0.8670\n",
      "Epoch 16/20\n",
      "25000/25000 [==============================] - 3s 122us/step - loss: 0.0755 - acc: 0.9778 - val_loss: 0.4191 - val_acc: 0.8650\n",
      "Epoch 17/20\n",
      "25000/25000 [==============================] - 3s 127us/step - loss: 0.0698 - acc: 0.9804 - val_loss: 0.4377 - val_acc: 0.8649\n",
      "Epoch 18/20\n",
      "25000/25000 [==============================] - 3s 129us/step - loss: 0.0649 - acc: 0.9822 - val_loss: 0.4565 - val_acc: 0.8635\n",
      "Epoch 19/20\n",
      "25000/25000 [==============================] - 3s 124us/step - loss: 0.0603 - acc: 0.9840 - val_loss: 0.4766 - val_acc: 0.8616\n",
      "Epoch 20/20\n",
      "25000/25000 [==============================] - 3s 123us/step - loss: 0.0561 - acc: 0.9850 - val_loss: 0.4970 - val_acc: 0.8591\n"
     ]
    }
   ],
   "source": [
    "# Q3.1.3 : Fit the neural network to its training data\n",
    "\n",
    "# YOUR CODE BELOW\n",
    "smaller_model_hist = smaller_model.fit(x_train, y_train,\n",
    "                                       epochs=20,\n",
    "                                       batch_size=512,\n",
    "                                       validation_data=(x_test, y_test))"
   ]
  },
  {
   "cell_type": "markdown",
   "metadata": {},
   "source": [
    "\n",
    "Here's a comparison of the validation losses of the original network and the smaller network. The dots are the validation loss values of \n",
    "the smaller network, and the crosses are the initial network (remember: a lower validation loss signals a better model)."
   ]
  },
  {
   "cell_type": "code",
   "execution_count": 11,
   "metadata": {
    "collapsed": true
   },
   "outputs": [],
   "source": [
    "epochs = range(1, 21)\n",
    "original_val_loss = original_hist.history['val_loss']\n",
    "smaller_model_val_loss = smaller_model_hist.history['val_loss']"
   ]
  },
  {
   "cell_type": "code",
   "execution_count": 12,
   "metadata": {},
   "outputs": [
    {
     "data": {
      "image/png": "[encoded data removed]",
      "text/plain": [
       "<matplotlib.figure.Figure at 0x2184932d0>"
      ]
     },
     "metadata": {},
     "output_type": "display_data"
    }
   ],
   "source": [
    "fig = plt.figure(figsize=(10,5))\n",
    "\n",
    "# b+ is for \"blue cross\"\n",
    "plt.plot(epochs, original_val_loss, 'b+', label='Original model')\n",
    "# \"bo\" is for \"blue dot\"\n",
    "plt.plot(epochs, smaller_model_val_loss, 'bo', label='Smaller model')\n",
    "plt.xlabel('Epochs')\n",
    "plt.ylabel('Validation loss')\n",
    "plt.legend()\n",
    "\n",
    "plt.show()"
   ]
  },
  {
   "cell_type": "markdown",
   "metadata": {},
   "source": [
    "\n",
    "As you can see, the smaller network starts overfitting later than the reference one (after 6 epochs rather than 4) and its performance \n",
    "degrades much more slowly once it starts overfitting."
   ]
  },
  {
   "cell_type": "markdown",
   "metadata": {},
   "source": [
    "### 3.2 - Adding weight regularization\n",
    "\n",
    "\n",
    "You may be familiar with _Occam's Razor_ principle: given two explanations for something, the explanation most likely to be correct is the \"simplest\" one, the one that makes the least amount of assumptions. This also applies to the models learned by neural networks: given some training data and a network architecture, there are multiple sets of weights values (multiple _models_) that could explain the data, and simpler models are less likely to overfit than complex ones.\n",
    "\n",
    "A \"simple model\" in this context is a model where the distribution of parameter values has less entropy (or a model with fewer parameters altogether). Thus a common way to mitigate overfitting is to put constraints on the complexity of a network by forcing its weights to only take small values, which makes the distribution of weight values more \"regular\". This is called \"weight regularization\", and it is done by adding to the loss function of the network a _cost_ associated with having large weights. This cost comes in two flavors:\n",
    "\n",
    "* L1 regularization, where the cost added is proportional to the _absolute value of the weights coefficients_ (i.e. to what is called the \"L1 norm\" of the weights).\n",
    "* L2 regularization, where the cost added is proportional to the _square of the value of the weights coefficients_ (i.e. to what is called the \"L2 norm\" of the weights). L2 regularization is also called _weight decay_ in the context of neural networks. Don't let the different name confuse you: weight decay is mathematically the exact same as L2 regularization.\n",
    "\n",
    "In Keras, weight regularization is added by passing _weight regularizer instances_ to layers as keyword arguments. Let's add L2 weight regularization to our movie review classification network:"
   ]
  },
  {
   "cell_type": "code",
   "execution_count": 13,
   "metadata": {},
   "outputs": [],
   "source": [
    "from keras import regularizers"
   ]
  },
  {
   "cell_type": "markdown",
   "metadata": {},
   "source": [
    "Let's build our network, using the `Sequential` API.\n",
    "\n",
    "> Here's the network's building blocks : \n",
    "- Dense Layer : 16 neurons, relu activation, l2 regularization (0.001), input shape (10000, )\n",
    "- Dense Layer : 16 neurons, relu activation, l2 regularization (0.001)\n",
    "- Dense Layer : 1 neurons, sigmoid activation\n",
    "\n",
    "Documentation Sequential API: https://keras.io/getting-started/sequential-model-guide/\n",
    "Documentation Regularizers: https://keras.io/regularizers/"
   ]
  },
  {
   "cell_type": "code",
   "execution_count": 14,
   "metadata": {
    "collapsed": true
   },
   "outputs": [],
   "source": [
    "# Q3.2.1 : Create the layers of the neural network using the Sequential API from Keras\n",
    "\n",
    "l2_model = models.Sequential()\n",
    "\n",
    "# YOUR CODE BELOW\n",
    "l2_model.add(layers.Dense(16, kernel_regularizer=regularizers.l2(0.001),\n",
    "                          activation='relu', input_shape=(10000,)))\n",
    "l2_model.add(layers.Dense(16, kernel_regularizer=regularizers.l2(0.001),\n",
    "                          activation='relu'))\n",
    "l2_model.add(layers.Dense(1, activation='sigmoid'))"
   ]
  },
  {
   "cell_type": "markdown",
   "metadata": {},
   "source": [
    "Implement the following compilation step for your Neural Network (which are the same from the previous model) : \n",
    "- \"rmsprop\" optimizer\n",
    "- \"binary_crossentropy\" loss\n",
    "- metric : \"accuracy\"\n",
    "\n",
    "Documentation : https://keras.io/getting-started/sequential-model-guide/#compilation"
   ]
  },
  {
   "cell_type": "code",
   "execution_count": 15,
   "metadata": {
    "collapsed": true
   },
   "outputs": [],
   "source": [
    "# Q3.2.2 : Add the compilation step to the network\n",
    "\n",
    "# YOUR CODE BELOW\n",
    "l2_model.compile(optimizer='rmsprop',\n",
    "                 loss='binary_crossentropy',\n",
    "                 metrics=['acc'])"
   ]
  },
  {
   "cell_type": "markdown",
   "metadata": {},
   "source": [
    "`l2(0.001)` means that every coefficient in the weight matrix of the layer will add `0.001 * weight_coefficient_value` to the total loss of \n",
    "the network. Note that because this penalty is _only added at training time_, the loss for this network will be much higher at training \n",
    "than at test time."
   ]
  },
  {
   "cell_type": "markdown",
   "metadata": {},
   "source": [
    "Train the model with the same parameters as the previous one\n",
    "\n",
    "Documentation : https://keras.io/models/sequential/#fit"
   ]
  },
  {
   "cell_type": "code",
   "execution_count": 16,
   "metadata": {},
   "outputs": [
    {
     "name": "stdout",
     "output_type": "stream",
     "text": [
      "Train on 25000 samples, validate on 25000 samples\n",
      "Epoch 1/20\n",
      "25000/25000 [==============================] - 4s 152us/step - loss: 0.5041 - acc: 0.8084 - val_loss: 0.3782 - val_acc: 0.8838\n",
      "Epoch 2/20\n",
      "25000/25000 [==============================] - 4s 140us/step - loss: 0.3131 - acc: 0.9066 - val_loss: 0.3327 - val_acc: 0.8897\n",
      "Epoch 3/20\n",
      "25000/25000 [==============================] - 3s 126us/step - loss: 0.2665 - acc: 0.9224 - val_loss: 0.3694 - val_acc: 0.8692\n",
      "Epoch 4/20\n",
      "25000/25000 [==============================] - 3s 134us/step - loss: 0.2482 - acc: 0.9287 - val_loss: 0.3387 - val_acc: 0.8862\n",
      "Epoch 5/20\n",
      "25000/25000 [==============================] - 3s 136us/step - loss: 0.2354 - acc: 0.9353 - val_loss: 0.3804 - val_acc: 0.8695\n",
      "Epoch 6/20\n",
      "25000/25000 [==============================] - 3s 132us/step - loss: 0.2252 - acc: 0.9394 - val_loss: 0.3589 - val_acc: 0.8801\n",
      "Epoch 7/20\n",
      "25000/25000 [==============================] - 4s 141us/step - loss: 0.2183 - acc: 0.9415 - val_loss: 0.4241 - val_acc: 0.8602\n",
      "Epoch 8/20\n",
      "25000/25000 [==============================] - 3s 129us/step - loss: 0.2179 - acc: 0.9425 - val_loss: 0.3711 - val_acc: 0.8787\n",
      "Epoch 9/20\n",
      "25000/25000 [==============================] - 3s 127us/step - loss: 0.2100 - acc: 0.9436 - val_loss: 0.4017 - val_acc: 0.8662\n",
      "Epoch 10/20\n",
      "25000/25000 [==============================] - 3s 139us/step - loss: 0.2044 - acc: 0.9476 - val_loss: 0.4104 - val_acc: 0.8689\n",
      "Epoch 11/20\n",
      "25000/25000 [==============================] - 3s 128us/step - loss: 0.2035 - acc: 0.9467 - val_loss: 0.3979 - val_acc: 0.8706\n",
      "Epoch 12/20\n",
      "25000/25000 [==============================] - 3s 137us/step - loss: 0.1965 - acc: 0.9502 - val_loss: 0.4194 - val_acc: 0.8652\n",
      "Epoch 13/20\n",
      "25000/25000 [==============================] - 3s 138us/step - loss: 0.1930 - acc: 0.9535 - val_loss: 0.4189 - val_acc: 0.8696\n",
      "Epoch 14/20\n",
      "25000/25000 [==============================] - 3s 138us/step - loss: 0.1884 - acc: 0.9540 - val_loss: 0.5466 - val_acc: 0.8277\n",
      "Epoch 15/20\n",
      "25000/25000 [==============================] - 3s 139us/step - loss: 0.1882 - acc: 0.9540 - val_loss: 0.4843 - val_acc: 0.8501\n",
      "Epoch 16/20\n",
      "25000/25000 [==============================] - 3s 133us/step - loss: 0.1835 - acc: 0.9558 - val_loss: 0.4156 - val_acc: 0.8704\n",
      "Epoch 17/20\n",
      "25000/25000 [==============================] - 3s 131us/step - loss: 0.1787 - acc: 0.9595 - val_loss: 0.4464 - val_acc: 0.8619\n",
      "Epoch 18/20\n",
      "25000/25000 [==============================] - 3s 134us/step - loss: 0.1812 - acc: 0.9572 - val_loss: 0.4281 - val_acc: 0.8671\n",
      "Epoch 19/20\n",
      "25000/25000 [==============================] - 3s 139us/step - loss: 0.1740 - acc: 0.9597 - val_loss: 0.4319 - val_acc: 0.8656\n",
      "Epoch 20/20\n",
      "25000/25000 [==============================] - 3s 131us/step - loss: 0.1715 - acc: 0.9614 - val_loss: 0.5048 - val_acc: 0.8464\n"
     ]
    }
   ],
   "source": [
    "# Q3.2.3 : Fit the neural network to its training data\n",
    "\n",
    "# YOUR CODE BELOW\n",
    "l2_model_hist = l2_model.fit(x_train, y_train,\n",
    "                             epochs=20,\n",
    "                             batch_size=512,\n",
    "                             validation_data=(x_test, y_test))"
   ]
  },
  {
   "cell_type": "markdown",
   "metadata": {},
   "source": [
    "Let's plot the results"
   ]
  },
  {
   "cell_type": "code",
   "execution_count": 17,
   "metadata": {},
   "outputs": [
    {
     "data": {
      "image/png": "[encoded data removed]",
      "text/plain": [
       "<matplotlib.figure.Figure at 0x218a496d0>"
      ]
     },
     "metadata": {},
     "output_type": "display_data"
    }
   ],
   "source": [
    "l2_model_val_loss = l2_model_hist.history['val_loss']\n",
    "\n",
    "fig = plt.figure(figsize=(10,5))\n",
    "plt.plot(epochs, original_val_loss, 'b+', label='Original model')\n",
    "plt.plot(epochs, l2_model_val_loss, 'bo', label='L2-regularized model')\n",
    "plt.xlabel('Epochs')\n",
    "plt.ylabel('Validation loss')\n",
    "plt.legend()\n",
    "\n",
    "plt.show()"
   ]
  },
  {
   "cell_type": "markdown",
   "metadata": {},
   "source": [
    "\n",
    "\n",
    "As you can see, the model with L2 regularization (dots) has become much more resistant to overfitting than the reference model (crosses), \n",
    "even though both models have the same number of parameters.\n",
    "\n",
    "As alternatives to L2 regularization, you could use one of the following Keras weight regularizers:"
   ]
  },
  {
   "cell_type": "code",
   "execution_count": null,
   "metadata": {
    "collapsed": true
   },
   "outputs": [],
   "source": [
    "from keras import regularizers\n",
    "\n",
    "# L1 regularization\n",
    "regularizers.l1(0.001)\n",
    "\n",
    "# L1 and L2 regularization at the same time\n",
    "regularizers.l1_l2(l1=0.001, l2=0.001)"
   ]
  },
  {
   "cell_type": "markdown",
   "metadata": {},
   "source": [
    "### 3.3 -  Adding dropout\n",
    "\n",
    "\n",
    "Dropout is one of the most effective and most commonly used regularization techniques for neural networks, developed by Hinton and his students at the University of Toronto. Dropout, applied to a layer, consists of randomly \"dropping out\" (i.e. setting to zero) a number of output features of the layer during training. Let's say a given layer would normally have returned a vector `[0.2, 0.5, 1.3, 0.8, 1.1]` for a given input sample during training; after applying dropout, this vector will have a few zero entries distributed at random, e.g. `[0, 0.5, 1.3, 0, 1.1]`. The \"dropout rate\" is the fraction of the features that are being zeroed-out; it is usually set between 0.2 and 0.5. At test time, no units are dropped out, and instead the layer's output values are scaled down by a factor equal to the dropout rate, so as to balance for the fact that more units are active than at training time."
   ]
  },
  {
   "cell_type": "markdown",
   "metadata": {},
   "source": [
    "\n",
    "This technique may seem strange and arbitrary. Why would this help reduce overfitting? Geoff Hinton has said that he was inspired, among \n",
    "other things, by a fraud prevention mechanism used by banks -- in his own words: _\"I went to my bank. The tellers kept changing and I asked \n",
    "one of them why. He said he didn’t know but they got moved around a lot. I figured it must be because it would require cooperation \n",
    "between employees to successfully defraud the bank. This made me realize that randomly removing a different subset of neurons on each \n",
    "example would prevent conspiracies and thus reduce overfitting\"_.\n",
    "\n",
    "The core idea is that introducing noise in the output values of a layer can break up happenstance patterns that are not significant (what \n",
    "Hinton refers to as \"conspiracies\"), which the network would start memorizing if no noise was present. \n",
    "\n",
    "In Keras you can introduce dropout in a network via the `Dropout` layer, which gets applied to the output of layer right before it, e.g.:"
   ]
  },
  {
   "cell_type": "markdown",
   "metadata": {},
   "source": [
    "Let's build our network, using the `Sequential` API.\n",
    "\n",
    "> Here's the network's building blocks : \n",
    "- Dense Layer : 16 neurons, relu activation, input shape (10000, )\n",
    "- Dropout Layer : Rate 0.5\n",
    "- Dense Layer : 16 neurons, relu activation\n",
    "- Dropout Layer : Rate 0.5\n",
    "- Dense Layer : 1 neurons, sigmoid activation\n",
    "\n",
    "Documentation Sequential API: https://keras.io/getting-started/sequential-model-guide/\n",
    "Documentation Dropout: https://keras.io/layers/core/#dropout"
   ]
  },
  {
   "cell_type": "code",
   "execution_count": 18,
   "metadata": {
    "collapsed": true
   },
   "outputs": [],
   "source": [
    "# Q3.3.1 : Create the layers of the neural network using the Sequential API from Keras\n",
    "\n",
    "dpt_model = models.Sequential()\n",
    "\n",
    "# YOUR CODE BELOW\n",
    "dpt_model.add(layers.Dense(16, activation='relu', input_shape=(10000,)))\n",
    "dpt_model.add(layers.Dropout(0.5))\n",
    "dpt_model.add(layers.Dense(16, activation='relu'))\n",
    "dpt_model.add(layers.Dropout(0.5))\n",
    "dpt_model.add(layers.Dense(1, activation='sigmoid'))"
   ]
  },
  {
   "cell_type": "markdown",
   "metadata": {},
   "source": [
    "Implement the following compilation step for your Neural Network (which are the same from the previous model) : \n",
    "- \"rmsprop\" optimizer\n",
    "- \"binary_crossentropy\" loss\n",
    "- metric : \"accuracy\"\n",
    "\n",
    "Documentation : https://keras.io/getting-started/sequential-model-guide/#compilation"
   ]
  },
  {
   "cell_type": "code",
   "execution_count": 19,
   "metadata": {},
   "outputs": [],
   "source": [
    "# Q3.3.2 : Add the compilation step to the network\n",
    "\n",
    "# YOUR CODE BELOW\n",
    "dpt_model.compile(optimizer='rmsprop',\n",
    "                  loss='binary_crossentropy',\n",
    "                  metrics=['acc'])"
   ]
  },
  {
   "cell_type": "markdown",
   "metadata": {},
   "source": [
    "Train the model with the same parameters as the previous one\n",
    "\n",
    "Documentation : https://keras.io/models/sequential/#fit"
   ]
  },
  {
   "cell_type": "code",
   "execution_count": 20,
   "metadata": {},
   "outputs": [
    {
     "name": "stdout",
     "output_type": "stream",
     "text": [
      "Train on 25000 samples, validate on 25000 samples\n",
      "Epoch 1/20\n",
      "25000/25000 [==============================] - 4s 147us/step - loss: 0.5572 - acc: 0.7184 - val_loss: 0.4036 - val_acc: 0.8622\n",
      "Epoch 2/20\n",
      "25000/25000 [==============================] - 3s 132us/step - loss: 0.3982 - acc: 0.8454 - val_loss: 0.3092 - val_acc: 0.8859\n",
      "Epoch 3/20\n",
      "25000/25000 [==============================] - 3s 131us/step - loss: 0.3272 - acc: 0.8846 - val_loss: 0.2866 - val_acc: 0.8893\n",
      "Epoch 4/20\n",
      "25000/25000 [==============================] - 4s 142us/step - loss: 0.2756 - acc: 0.9054 - val_loss: 0.2795 - val_acc: 0.8882\n",
      "Epoch 5/20\n",
      "25000/25000 [==============================] - 3s 135us/step - loss: 0.2430 - acc: 0.9204 - val_loss: 0.2892 - val_acc: 0.8884\n",
      "Epoch 6/20\n",
      "25000/25000 [==============================] - 3s 135us/step - loss: 0.2186 - acc: 0.9283 - val_loss: 0.3041 - val_acc: 0.8809\n",
      "Epoch 7/20\n",
      "25000/25000 [==============================] - 3s 131us/step - loss: 0.1943 - acc: 0.9387 - val_loss: 0.3257 - val_acc: 0.8867\n",
      "Epoch 8/20\n",
      "25000/25000 [==============================] - 3s 131us/step - loss: 0.1790 - acc: 0.9419 - val_loss: 0.3428 - val_acc: 0.8816\n",
      "Epoch 9/20\n",
      "25000/25000 [==============================] - 3s 130us/step - loss: 0.1655 - acc: 0.9464 - val_loss: 0.3598 - val_acc: 0.8786\n",
      "Epoch 10/20\n",
      "25000/25000 [==============================] - 3s 132us/step - loss: 0.1547 - acc: 0.9501 - val_loss: 0.3776 - val_acc: 0.8802\n",
      "Epoch 11/20\n",
      "25000/25000 [==============================] - 3s 136us/step - loss: 0.1473 - acc: 0.9540 - val_loss: 0.3995 - val_acc: 0.8769\n",
      "Epoch 12/20\n",
      "25000/25000 [==============================] - 3s 125us/step - loss: 0.1373 - acc: 0.9576 - val_loss: 0.4597 - val_acc: 0.8758\n",
      "Epoch 13/20\n",
      "25000/25000 [==============================] - 3s 124us/step - loss: 0.1336 - acc: 0.9591 - val_loss: 0.4407 - val_acc: 0.8738\n",
      "Epoch 14/20\n",
      "25000/25000 [==============================] - 3s 129us/step - loss: 0.1231 - acc: 0.9619 - val_loss: 0.4801 - val_acc: 0.8762\n",
      "Epoch 15/20\n",
      "25000/25000 [==============================] - 3s 122us/step - loss: 0.1250 - acc: 0.9612 - val_loss: 0.5077 - val_acc: 0.8753\n",
      "Epoch 16/20\n",
      "25000/25000 [==============================] - 3s 129us/step - loss: 0.1194 - acc: 0.9634 - val_loss: 0.5124 - val_acc: 0.8736\n",
      "Epoch 17/20\n",
      "25000/25000 [==============================] - 4s 140us/step - loss: 0.1164 - acc: 0.9638 - val_loss: 0.5398 - val_acc: 0.8738\n",
      "Epoch 18/20\n",
      "25000/25000 [==============================] - 3s 140us/step - loss: 0.1158 - acc: 0.9652 - val_loss: 0.5621 - val_acc: 0.8744\n",
      "Epoch 19/20\n",
      "25000/25000 [==============================] - 3s 139us/step - loss: 0.1055 - acc: 0.9680 - val_loss: 0.5525 - val_acc: 0.8692\n",
      "Epoch 20/20\n",
      "25000/25000 [==============================] - 3s 129us/step - loss: 0.1120 - acc: 0.9660 - val_loss: 0.5787 - val_acc: 0.8714\n"
     ]
    }
   ],
   "source": [
    "# Q3.3.3 : Fit the neural network to its training data\n",
    "\n",
    "# YOUR CODE BELOW\n",
    "dpt_model_hist = dpt_model.fit(x_train, y_train,\n",
    "                               epochs=20,\n",
    "                               batch_size=512,\n",
    "                               validation_data=(x_test, y_test))"
   ]
  },
  {
   "cell_type": "markdown",
   "metadata": {},
   "source": [
    "Let's plot the results:"
   ]
  },
  {
   "cell_type": "code",
   "execution_count": 21,
   "metadata": {},
   "outputs": [
    {
     "data": {
      "image/png": "[encoded data removed]",
      "text/plain": [
       "<matplotlib.figure.Figure at 0x2190efa10>"
      ]
     },
     "metadata": {},
     "output_type": "display_data"
    }
   ],
   "source": [
    "dpt_model_val_loss = dpt_model_hist.history['val_loss']\n",
    "\n",
    "fig = plt.figure(figsize=(10,5))\n",
    "plt.plot(epochs, original_val_loss, 'b+', label='Original model')\n",
    "plt.plot(epochs, dpt_model_val_loss, 'bo', label='Dropout-regularized model')\n",
    "plt.xlabel('Epochs')\n",
    "plt.ylabel('Validation loss')\n",
    "plt.legend()\n",
    "\n",
    "plt.show()"
   ]
  },
  {
   "cell_type": "markdown",
   "metadata": {},
   "source": [
    "\n",
    "Again, a clear improvement over the reference network.\n",
    "\n",
    "To recap: here the most common ways to prevent overfitting in neural networks:\n",
    "\n",
    "* Getting more training data.\n",
    "* Reducing the capacity of the network.\n",
    "* Adding weight regularization.\n",
    "* Adding dropout."
   ]
  }
 ],
 "metadata": {
  "kernelspec": {
   "display_name": "Python 2",
   "language": "python",
   "name": "python2"
  },
  "language_info": {
   "codemirror_mode": {
    "name": "ipython",
    "version": 2
   },
   "file_extension": ".py",
   "mimetype": "text/x-python",
   "name": "python",
   "nbconvert_exporter": "python",
   "pygments_lexer": "ipython2",
   "version": "2.7.14"
  }
 },
 "nbformat": 4,
 "nbformat_minor": 2
}
